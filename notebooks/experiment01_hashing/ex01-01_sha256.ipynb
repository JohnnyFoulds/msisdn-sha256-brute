{
 "cells": [
  {
   "cell_type": "markdown",
   "metadata": {},
   "source": [
    "# Experiment 01-01 : Create a simple SHA256 Hash using OpenCL"
   ]
  },
  {
   "cell_type": "code",
   "execution_count": 409,
   "metadata": {},
   "outputs": [],
   "source": [
    "import sys\n",
    "sys.path.append('../../')"
   ]
  },
  {
   "cell_type": "code",
   "execution_count": 410,
   "metadata": {},
   "outputs": [],
   "source": [
    "import numpy as np\n",
    "import hashlib\n",
    "from binascii import hexlify, unhexlify\n",
    "import pyopencl as cl\n",
    "from Library.opencl_information import opencl_information\n"
   ]
  },
  {
   "cell_type": "markdown",
   "metadata": {},
   "source": [
    "## Show the available OpenCL Platforms"
   ]
  },
  {
   "cell_type": "code",
   "execution_count": 411,
   "metadata": {},
   "outputs": [
    {
     "name": "stdout",
     "output_type": "stream",
     "text": [
      "\n",
      "============================================================\n",
      "OpenCL Platforms and Devices\n",
      "============================================================\n",
      "Platform 0 - Name: Apple\n",
      "Platform 0 - Vendor: Apple\n",
      "Platform 0 - Version: OpenCL 1.2 (Sep 30 2022 01:38:14)\n",
      "Platform 0 - Profile: FULL_PROFILE\n",
      " --------------------------------------------------------\n",
      " Device - Name: Apple M1\n",
      " Device - Type: ALL | GPU\n",
      " Device - Max Clock Speed: 1000 Mhz\n",
      " Device - Compute Units: 8\n",
      " Device - Local Memory: 32 KB\n",
      " Device - Constant Memory: 1048576 KB\n",
      " Device - Global Memory: 5 GB\n",
      " Device - Max Buffer/Image Size: 1024 MB\n",
      " Device - Max Work Group Size: 256\n",
      "\n",
      "\n"
     ]
    }
   ],
   "source": [
    "info = opencl_information()\n",
    "info.print_full_info()"
   ]
  },
  {
   "cell_type": "markdown",
   "metadata": {},
   "source": [
    "## Configure the OpenCL Context"
   ]
  },
  {
   "cell_type": "code",
   "execution_count": 412,
   "metadata": {},
   "outputs": [],
   "source": [
    "platform_number = 0\n",
    "device_number = 0\n",
    "\n",
    "cl_devices = cl.get_platforms()[platform_number].get_devices()\n",
    "cl_ctx = cl.Context(cl_devices)\n",
    "cl_queue = cl.CommandQueue(cl_ctx, cl_devices[device_number])"
   ]
  },
  {
   "cell_type": "markdown",
   "metadata": {},
   "source": [
    "## Compile the Program"
   ]
  },
  {
   "cell_type": "code",
   "execution_count": 413,
   "metadata": {},
   "outputs": [],
   "source": [
    "def build_program(program_files : list, cl_ctx : cl.Context,\n",
    "        build_options=[]) -> cl.Program:\n",
    "    \"\"\"\n",
    "    Build a program from an OpenCL source file.\n",
    "\n",
    "    Parameters\n",
    "    ----------\n",
    "    program_files : list\n",
    "        The path to the OpenCL source files.\n",
    "    cl_ctx : pyopencl.Context\n",
    "        The context to build the program with.\n",
    "    build_options : list of str\n",
    "        The build options to use.\n",
    "\n",
    "    Returns\n",
    "    -------\n",
    "    pyopencl.Program\n",
    "    \"\"\"\n",
    "    program_source = ''\n",
    "\n",
    "    for cl_file in program_files:\n",
    "        with open(cl_file, 'r') as cl_file:\n",
    "            file_source = cl_file.read()\n",
    "            program_source += '\\n' + file_source\n",
    "\n",
    "    program_source = cl.Program(cl_ctx, program_source)\n",
    "    program = program_source.build(options=build_options)\n",
    "            \n",
    "    return program"
   ]
  },
  {
   "cell_type": "code",
   "execution_count": 414,
   "metadata": {},
   "outputs": [
    {
     "name": "stdout",
     "output_type": "stream",
     "text": [
      "Kernel Names: hash_main;get_single_hash;find_msisdn\n"
     ]
    }
   ],
   "source": [
    "cl_program_files = [\n",
    "    '../../Library/worker/sha256.cl',\n",
    "    '../../Library/worker/msisdn.cl',\n",
    "]\n",
    "\n",
    "cl_program = build_program(cl_program_files, cl_ctx)\n",
    "\n",
    "# show the kernel names\n",
    "program_kernel_names = cl_program.get_info(cl.program_info.KERNEL_NAMES)\n",
    "print(f\"Kernel Names: {program_kernel_names}\")"
   ]
  },
  {
   "cell_type": "markdown",
   "metadata": {},
   "source": [
    "## Single hash"
   ]
  },
  {
   "cell_type": "code",
   "execution_count": 415,
   "metadata": {},
   "outputs": [
    {
     "name": "stdout",
     "output_type": "stream",
     "text": [
      "Plaintext: 0722252318\n",
      "CL result      : b'2b59d1a6d1d1efaea83eea2b3b68c95770b4193a498bdfecedda80e936e9611c'\n",
      "Correct result : b'2b59d1a6d1d1efaea83eea2b3b68c95770b4193a498bdfecedda80e936e9611c'\n",
      "CL output      : [2798737707 2934952401  736771752 1472817211  974763120 3974073161\n",
      " 3917535981  476178742]\n",
      "CL output      : [ 43  89 209 166 209 209 239 174 168  62 234  43  59 104 201  87 112 180\n",
      "  25  58  73 139 223 236 237 218 128 233  54 233  97  28]\n",
      "CL output      : b'+Y\\xd1\\xa6\\xd1\\xd1\\xef\\xae\\xa8>\\xea+;h\\xc9Wp\\xb4\\x19:I\\x8b\\xdf\\xec\\xed\\xda\\x80\\xe96\\xe9a\\x1c'\n"
     ]
    }
   ],
   "source": [
    "# the text to hash\n",
    "plaintext = '0722252318'\n",
    "plaintext_bytes = np.frombuffer(plaintext.encode('utf-8'), dtype=np.uint8)\n",
    "plaintext_length = np.int32(len(plaintext_bytes))\n",
    "\n",
    "# the hash output\n",
    "hash_output = np.zeros(8, dtype=np.uint32)\n",
    "\n",
    "# allocate the memory for the variables on the device\n",
    "cl_plaintext_bytes = cl.Buffer(\n",
    "    cl_ctx,\n",
    "    cl.mem_flags.READ_ONLY | cl.mem_flags.COPY_HOST_PTR,\n",
    "    hostbuf=plaintext_bytes)\n",
    "\n",
    "cl_plaintext_length = cl.Buffer(\n",
    "    cl_ctx,\n",
    "    cl.mem_flags.READ_ONLY | cl.mem_flags.COPY_HOST_PTR,\n",
    "    hostbuf=plaintext_length)\n",
    "\n",
    "cl_hash_output = cl.Buffer(\n",
    "    cl_ctx,\n",
    "    cl.mem_flags.WRITE_ONLY,\n",
    "    hash_output.nbytes)\n",
    "\n",
    "# execute the program\n",
    "cl_program.get_single_hash(\n",
    "    cl_queue, (1,), None,\n",
    "    cl_plaintext_bytes,\n",
    "    cl_plaintext_length,\n",
    "    cl_hash_output)\n",
    "\n",
    "# get the results\n",
    "cl.enqueue_copy(cl_queue, hash_output, cl_hash_output)\n",
    "\n",
    "# print the results\n",
    "print(\"Plaintext: %s\" % plaintext)\n",
    "print(\"CL result      : %s\" % hexlify(hash_output))\n",
    "print(\"Correct result : %s\" % hexlify(hashlib.sha256(plaintext.encode('utf-8')).digest()))\n",
    "print(\"CL output      : %s\" % hash_output)\n",
    "print(\"CL output      : %s\" % np.frombuffer(hash_output, dtype=np.uint8))\n",
    "print(\"CL output      : %s\" % hash_output.tobytes())\n",
    "\n",
    "assert hexlify(hash_output) == b'2b59d1a6d1d1efaea83eea2b3b68c95770b4193a498bdfecedda80e936e9611c'"
   ]
  },
  {
   "cell_type": "code",
   "execution_count": 416,
   "metadata": {},
   "outputs": [
    {
     "data": {
      "text/plain": [
       "array([2798737707, 2934952401,  736771752, 1472817211,  974763120,\n",
       "       3974073161, 3917535981,  476178742], dtype=uint32)"
      ]
     },
     "execution_count": 416,
     "metadata": {},
     "output_type": "execute_result"
    }
   ],
   "source": [
    "hash_output"
   ]
  },
  {
   "cell_type": "code",
   "execution_count": 417,
   "metadata": {},
   "outputs": [
    {
     "data": {
      "text/plain": [
       "array([2798737707, 2934952401,  736771752, 1472817211,  974763120,\n",
       "       3974073161, 3917535981,  476178742], dtype=uint32)"
      ]
     },
     "execution_count": 417,
     "metadata": {},
     "output_type": "execute_result"
    }
   ],
   "source": [
    "hash_string = '2b59d1a6d1d1efaea83eea2b3b68c95770b4193a498bdfecedda80e936e9611c'\n",
    "np.frombuffer(unhexlify(hash_string), dtype=np.uint32)"
   ]
  },
  {
   "cell_type": "markdown",
   "metadata": {},
   "source": [
    "## Find MSISDN"
   ]
  },
  {
   "cell_type": "code",
   "execution_count": 418,
   "metadata": {},
   "outputs": [
    {
     "name": "stdout",
     "output_type": "stream",
     "text": [
      "hash_output : [2798737707 2934952401  736771752 1472817211  974763120 3974073161\n",
      " 3917535981  476178742]\n",
      "output_candidates_len : [0]\n",
      "output_candidates     : [0 0 0 0 0 0 0 0 0 0 0 0 0 0 0 0 0 0 0 0 0 0 0 0 0 0 0 0 0 0 0 0 0 0 0 0 0\n",
      " 0 0 0 0 0 0 0 0 0 0 0 0 0 0 0 0 0 0 0 0 0 0 0 0 0 0 0 0 0 0 0 0 0 0 0 0 0\n",
      " 0 0 0 0 0 0 0 0 0 0 0 0 0 0 0 0 0 0 0 0 0 0 0 0 0 0 0 0 0 0 0 0 0 0 0 0 0\n",
      " 0 0 0 0 0 0 0 0 0 0 0 0 0 0 0 0 0 0 0 0 0 0 0 0 0 0 0 0 0 0 0 0 0 0 0 0 0\n",
      " 0 0 0 0 0 0 0 0 0 0 0 0 0 0 0 0 0 0 0 0 0 0 0 0 0 0 0 0 0 0 0 0 0 0 0 0 0\n",
      " 0 0 0 0 0 0 0 0 0 0 0 0 0 0 0 0 0 0 0 0 0 0 0 0 0 0 0 0 0 0 0 0 0 0 0 0 0\n",
      " 0 0 0 0 0 0 0 0 0 0 0 0 0 0 0 0 0 0 0 0 0 0 0 0 0 0 0 0 0 0 0 0 0]\n"
     ]
    }
   ],
   "source": [
    "# get the target hash\n",
    "hash_string = '2b59d1a6d1d1efaea83eea2b3b68c95770b4193a498bdfecedda80e936e9611c'\n",
    "hash_input = np.frombuffer(unhexlify(hash_string), dtype=np.uint32)\n",
    "hash_output = np.zeros(8, dtype=np.uint32)\n",
    "\n",
    "# candidates\n",
    "output_candidates_len = np.zeros(1, dtype=np.uint8)\n",
    "output_candidates = np.zeros(255, dtype=np.uint32)\n",
    "\n",
    "# allocate the memory for the variables on the device\n",
    "# cl_hash_input = cl.Buffer(\n",
    "#     cl_ctx,\n",
    "#     cl.mem_flags.READ_ONLY | cl.mem_flags.COPY_HOST_PTR,\n",
    "#     hostbuf=hash_input)\n",
    "\n",
    "cl_hash_input = cl.Buffer(\n",
    "    cl_ctx,\n",
    "    cl.mem_flags.WRITE_ONLY,\n",
    "    hash_output.nbytes)\n",
    "\n",
    "cl_output_candidates_len = cl.Buffer(\n",
    "    cl_ctx,\n",
    "    cl.mem_flags.READ_WRITE | cl.mem_flags.USE_HOST_PTR,\n",
    "    hostbuf=output_candidates_len)\n",
    "\n",
    "cl_output_candidates = cl.Buffer(\n",
    "    cl_ctx,\n",
    "    cl.mem_flags.WRITE_ONLY,\n",
    "    output_candidates.nbytes)\n",
    "\n",
    "# execute the program\n",
    "cl_program.find_msisdn(\n",
    "    cl_queue, (3,), None,\n",
    "    cl_hash_input,\n",
    "    cl_output_candidates_len,\n",
    "    cl_output_candidates)\n",
    "\n",
    "# get the results\n",
    "cl.enqueue_copy(cl_queue, hash_output, cl_hash_input)\n",
    "cl.enqueue_copy(cl_queue, output_candidates, cl_output_candidates)\n",
    "\n",
    "print(f'hash_output : {hash_output}')\n",
    "print(f'output_candidates_len : {output_candidates_len}')\n",
    "print(f'output_candidates     : {output_candidates}')"
   ]
  }
 ],
 "metadata": {
  "kernelspec": {
   "display_name": "Python 3.10.8 ('msisdn-sha256-brute')",
   "language": "python",
   "name": "python3"
  },
  "language_info": {
   "codemirror_mode": {
    "name": "ipython",
    "version": 3
   },
   "file_extension": ".py",
   "mimetype": "text/x-python",
   "name": "python",
   "nbconvert_exporter": "python",
   "pygments_lexer": "ipython3",
   "version": "3.10.8"
  },
  "orig_nbformat": 4,
  "vscode": {
   "interpreter": {
    "hash": "c170e5f98f05e786265ab1b5f42d9cf5f3edd738ee7829064262eb7a49f1e116"
   }
  }
 },
 "nbformat": 4,
 "nbformat_minor": 2
}
